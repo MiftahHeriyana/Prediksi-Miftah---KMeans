{
 "cells": [
  {
   "cell_type": "code",
   "execution_count": 80,
   "id": "a02f8eda",
   "metadata": {},
   "outputs": [],
   "source": [
    "import numpy as np\n",
    "import pandas as pd\n",
    "import matplotlib.pyplot as plt\n",
    "import seaborn as sns\n",
    "from sklearn.preprocessing import LabelEncoder\n",
    "from sklearn.model_selection import train_test_split\n",
    "from sklearn.neighbors import KNeighborsClassifier\n",
    "from sklearn.preprocessing import StandardScaler"
   ]
  },
  {
   "cell_type": "code",
   "execution_count": 82,
   "id": "32d4dac4",
   "metadata": {},
   "outputs": [
    {
     "data": {
      "text/html": [
       "<div>\n",
       "<style scoped>\n",
       "    .dataframe tbody tr th:only-of-type {\n",
       "        vertical-align: middle;\n",
       "    }\n",
       "\n",
       "    .dataframe tbody tr th {\n",
       "        vertical-align: top;\n",
       "    }\n",
       "\n",
       "    .dataframe thead th {\n",
       "        text-align: right;\n",
       "    }\n",
       "</style>\n",
       "<table border=\"1\" class=\"dataframe\">\n",
       "  <thead>\n",
       "    <tr style=\"text-align: right;\">\n",
       "      <th></th>\n",
       "      <th>Pengirim</th>\n",
       "      <th>Layanan</th>\n",
       "      <th>Sumber</th>\n",
       "      <th>Biaya</th>\n",
       "      <th>Status</th>\n",
       "    </tr>\n",
       "  </thead>\n",
       "  <tbody>\n",
       "    <tr>\n",
       "      <th>0</th>\n",
       "      <td>17</td>\n",
       "      <td>1</td>\n",
       "      <td>7</td>\n",
       "      <td>374962</td>\n",
       "      <td>8</td>\n",
       "    </tr>\n",
       "    <tr>\n",
       "      <th>1</th>\n",
       "      <td>62</td>\n",
       "      <td>1</td>\n",
       "      <td>7</td>\n",
       "      <td>211860</td>\n",
       "      <td>8</td>\n",
       "    </tr>\n",
       "    <tr>\n",
       "      <th>2</th>\n",
       "      <td>31</td>\n",
       "      <td>1</td>\n",
       "      <td>7</td>\n",
       "      <td>174982</td>\n",
       "      <td>5</td>\n",
       "    </tr>\n",
       "    <tr>\n",
       "      <th>3</th>\n",
       "      <td>15</td>\n",
       "      <td>2</td>\n",
       "      <td>6</td>\n",
       "      <td>110000</td>\n",
       "      <td>8</td>\n",
       "    </tr>\n",
       "    <tr>\n",
       "      <th>4</th>\n",
       "      <td>123</td>\n",
       "      <td>2</td>\n",
       "      <td>6</td>\n",
       "      <td>105000</td>\n",
       "      <td>5</td>\n",
       "    </tr>\n",
       "  </tbody>\n",
       "</table>\n",
       "</div>"
      ],
      "text/plain": [
       "   Pengirim  Layanan  Sumber   Biaya  Status\n",
       "0        17        1       7  374962       8\n",
       "1        62        1       7  211860       8\n",
       "2        31        1       7  174982       5\n",
       "3        15        2       6  110000       8\n",
       "4       123        2       6  105000       5"
      ]
     },
     "execution_count": 82,
     "metadata": {},
     "output_type": "execute_result"
    }
   ],
   "source": [
    "#Membaca dataset\n",
    "dt = pd.read_excel(\"dataset1.xlsx\")\n",
    "\n",
    "dt.head()"
   ]
  },
  {
   "cell_type": "code",
   "execution_count": 83,
   "id": "ba9738c0",
   "metadata": {},
   "outputs": [
    {
     "data": {
      "text/plain": [
       "Pengirim    0\n",
       "Layanan     0\n",
       "Sumber      0\n",
       "Biaya       0\n",
       "Status      0\n",
       "dtype: int64"
      ]
     },
     "execution_count": 83,
     "metadata": {},
     "output_type": "execute_result"
    }
   ],
   "source": [
    "#Pengecekan data kosong\n",
    "dt.isna().sum()"
   ]
  },
  {
   "cell_type": "code",
   "execution_count": 84,
   "id": "01c551ba",
   "metadata": {},
   "outputs": [
    {
     "name": "stdout",
     "output_type": "stream",
     "text": [
      "Pengirim    int64\n",
      "Layanan     int64\n",
      "Sumber      int64\n",
      "Biaya       int64\n",
      "Status      int64\n",
      "dtype: object\n"
     ]
    }
   ],
   "source": [
    "#Melihat Tipe Dataset\n",
    "data_types = dt.dtypes\n",
    "\n",
    "# Print data types\n",
    "print(data_types)"
   ]
  },
  {
   "cell_type": "code",
   "execution_count": 86,
   "id": "834ddb77",
   "metadata": {},
   "outputs": [],
   "source": [
    "# Preprocessing data\n",
    "X = dt[['Pengirim', 'Layanan', 'Sumber', 'Biaya']]\n",
    "y = dt['Status']\n",
    "\n",
    "# Bagi data menjadi data latih dan data uji 80 dan 20\n",
    "X_train, X_test, y_train, y_test = train_test_split(X, y, test_size=0.2, random_state=50)"
   ]
  },
  {
   "cell_type": "code",
   "execution_count": 87,
   "id": "a78fa572",
   "metadata": {},
   "outputs": [
    {
     "name": "stdout",
     "output_type": "stream",
     "text": [
      "Nilai R2: 0.6535836177474402 %\n"
     ]
    }
   ],
   "source": [
    "# Inisialisasi model KNN\n",
    "model = KNeighborsClassifier()\n",
    "\n",
    "# Latih model menggunakan data latih\n",
    "model.fit(X_train, y_train)\n",
    "\n",
    "# Lakukan prediksi harga telur menggunakan data uji\n",
    "y_pred = model.predict(X_test)\n",
    "\n",
    "# Evaluasi model menggunakan metode R^2\n",
    "r2_score = model.score(X_test, y_test)\n",
    "print('Nilai R2:', r2_score, '%')\n"
   ]
  },
  {
   "cell_type": "code",
   "execution_count": 88,
   "id": "17e69060",
   "metadata": {},
   "outputs": [
    {
     "name": "stdout",
     "output_type": "stream",
     "text": [
      "Prediksi Status Paket: [9]\n"
     ]
    }
   ],
   "source": [
    "# Contoh prediksi paket dengan data baru\n",
    "#dt[['Pengirim', 'Layanan', 'Pembayaran', 'Sumber', 'Biaya']]\n",
    "data_baru = pd.DataFrame({\n",
    "    'Pengirim': [42],\n",
    "    'Layanan': [2],\n",
    "    'Sumber': [6],\n",
    "    'Biaya': [4365]\n",
    "})\n",
    "\n",
    "status_prediksi = model.predict(data_baru)\n",
    "print('Prediksi Status Paket:', status_prediksi)"
   ]
  },
  {
   "cell_type": "code",
   "execution_count": 90,
   "id": "5e5d8766",
   "metadata": {},
   "outputs": [],
   "source": [
    "#Menyimpan model ML\n",
    "import pickle\n",
    "filename = 'finalized_model.pkl'\n",
    "pickle.dump(model, open(filename, 'wb'))"
   ]
  },
  {
   "cell_type": "code",
   "execution_count": 97,
   "id": "948627d5",
   "metadata": {},
   "outputs": [
    {
     "name": "stdout",
     "output_type": "stream",
     "text": [
      "Prediksi Status Paket: [9]\n"
     ]
    }
   ],
   "source": [
    "# Contoh prediksi paket dengan data baru\n",
    "model1 = pickle.load( open( \"finalized_model.pkl\", \"rb\" ))\n",
    "data_baru = pd.DataFrame({\n",
    "    'Pengirim': [8],\n",
    "    'Layanan': [1],\n",
    "    'Sumber': [2],\n",
    "    'Biaya': [4678]\n",
    "})\n",
    "\n",
    "status_prediksi = model1.predict(data_baru)\n",
    "print('Prediksi Status Paket:', status_prediksi)"
   ]
  },
  {
   "cell_type": "code",
   "execution_count": null,
   "id": "30b21e05",
   "metadata": {},
   "outputs": [
    {
     "name": "stdout",
     "output_type": "stream",
     "text": [
      "Berhasil terhubung ke database\n",
      " * Serving Flask app '__main__'\n",
      " * Debug mode: off\n"
     ]
    },
    {
     "name": "stderr",
     "output_type": "stream",
     "text": [
      "WARNING: This is a development server. Do not use it in a production deployment. Use a production WSGI server instead.\n",
      " * Running on http://127.0.0.1:5000\n",
      "Press CTRL+C to quit\n",
      "127.0.0.1 - - [31/Jul/2023 00:07:09] \"GET / HTTP/1.1\" 200 -\n",
      "127.0.0.1 - - [31/Jul/2023 00:07:09] \"GET /static/style.css HTTP/1.1\" 304 -\n",
      "127.0.0.1 - - [31/Jul/2023 00:07:09] \"GET /static/bri.png HTTP/1.1\" 304 -\n",
      "127.0.0.1 - - [31/Jul/2023 00:07:19] \"POST /login HTTP/1.1\" 200 -\n",
      "127.0.0.1 - - [31/Jul/2023 00:07:20] \"GET /static/style.css HTTP/1.1\" 304 -\n",
      "127.0.0.1 - - [31/Jul/2023 00:07:20] \"GET /static/loan.jpg HTTP/1.1\" 304 -\n",
      "127.0.0.1 - - [31/Jul/2023 00:07:35] \"GET /predict HTTP/1.1\" 200 -\n",
      "127.0.0.1 - - [31/Jul/2023 00:07:35] \"GET /static/style.css HTTP/1.1\" 304 -\n",
      "127.0.0.1 - - [31/Jul/2023 00:07:35] \"GET /js/login.js HTTP/1.1\" 404 -\n",
      "127.0.0.1 - - [31/Jul/2023 00:07:56] \"POST /get_prediction HTTP/1.1\" 200 -\n",
      "127.0.0.1 - - [31/Jul/2023 00:07:56] \"GET /static/style.css HTTP/1.1\" 304 -\n",
      "127.0.0.1 - - [31/Jul/2023 00:07:56] \"GET /js/login.js HTTP/1.1\" 404 -\n",
      "127.0.0.1 - - [31/Jul/2023 00:08:22] \"POST /get_prediction HTTP/1.1\" 200 -\n",
      "127.0.0.1 - - [31/Jul/2023 00:08:22] \"GET /js/login.js HTTP/1.1\" 404 -\n",
      "127.0.0.1 - - [31/Jul/2023 00:08:22] \"GET /static/style.css HTTP/1.1\" 304 -\n",
      "127.0.0.1 - - [31/Jul/2023 00:08:31] \"GET /logout HTTP/1.1\" 200 -\n",
      "127.0.0.1 - - [31/Jul/2023 00:08:31] \"GET /static/style.css HTTP/1.1\" 304 -\n",
      "127.0.0.1 - - [31/Jul/2023 00:08:31] \"GET /static/bri.png HTTP/1.1\" 304 -\n"
     ]
    }
   ],
   "source": [
    "from flask import Flask, jsonify, make_response, request, render_template, abort, redirect, url_for, session\n",
    "import pandas as pd\n",
    "import numpy as np\n",
    "import pickle\n",
    "import mysql.connector\n",
    "import re\n",
    "\n",
    "from flask_cors import CORS,cross_origin\n",
    "model = pickle.load( open( \"finalized_model.pkl\", \"rb\" ) )\n",
    "app = Flask(__name__)\n",
    "app.config['CORS_HEADERS'] = 'Content-Type'\n",
    "app.secret_key = 'MIFTAHCCIT1234'\n",
    "\n",
    "#Koneksi Database\n",
    "conn = mysql.connector.connect(\n",
    "  host=\"localhost\",\n",
    "  user=\"root\",\n",
    "  passwd=\"\",\n",
    "  database=\"package_prediction\"\n",
    "    \n",
    ")\n",
    "#Buat Kursor (Penunjuk)\n",
    "cursor = conn.cursor()\n",
    "\n",
    "#Cek Koneksi Berhasil ?\n",
    "if conn.is_connected():\n",
    "  print(\"Berhasil terhubung ke database\")\n",
    "\n",
    "#Error Page\n",
    "cors = CORS(app)\n",
    "@app.errorhandler(404)\n",
    "def not_found(error):\n",
    "    return make_response(jsonify({'error': 'Not found'}), 404)\n",
    "\n",
    "#Halaman Pertama Kali\n",
    "@app.route(\"/\")\n",
    "def index():\n",
    "   return render_template('login.html')\n",
    "\n",
    "#Halaman Utama / Home\n",
    "@app.route(\"/home\")\n",
    "def home():\n",
    "    # Check if user is loggedin\n",
    "    if 'loggedin' in session:\n",
    "        # User is loggedin show them the home page\n",
    "        return render_template('home.html', username=session['username'])\n",
    "    # User is not loggedin redirect to login page\n",
    "    return redirect(url_for('login'))\n",
    "\n",
    "#Menu Profile\n",
    "@app.route('/predict')\n",
    "def predict():\n",
    "    if 'loggedin' in session:\n",
    "        return render_template('index.html')\n",
    "    else :\n",
    "        return render_template('login.html')\n",
    "\n",
    "#Fungsi Cek Login\n",
    "@app.route(\"/login\", methods=['GET', 'POST', 'OPTIONS'])\n",
    "def login():\n",
    "    # Output message if something goes wrong...\n",
    "    msg = ''\n",
    "    # Check if \"username\" and \"password\" POST requests exist (user submitted form)\n",
    "    if request.method == 'POST' and 'username' in request.form and 'password' in request.form:\n",
    "        # Create variables for easy access\n",
    "        username = request.form['username']\n",
    "        password = request.form['password']\n",
    "        # Check if account exists using MySQL\n",
    "        cursor.execute('SELECT * FROM accounts WHERE username = %s AND password = %s', (username, password,))\n",
    "        # Fetch one record and return result\n",
    "        account = cursor.fetchone()\n",
    "        # If account exists in accounts table in out database\n",
    "        if account:\n",
    "            # Create session data, we can access this data in other routes\n",
    "            session['loggedin'] = True\n",
    "            session['username'] = username\n",
    "            # Redirect to home page\n",
    "            return render_template('home.html', msg=session['username'])\n",
    "        else:\n",
    "            # Account doesnt exist or username/password incorrect\n",
    "            msg = 'Incorrect username/password!'\n",
    "    # Show the login form with message (if any)\n",
    "    return render_template('login.html', msg=msg)\n",
    "\n",
    "#Fungsi Logout\n",
    "@app.route(\"/logout\")\n",
    "def logout():\n",
    "    # Remove session data, this will log the user out\n",
    "   session.pop('loggedin', None)\n",
    "   session.pop('id', None)\n",
    "   session.pop('username', None)\n",
    "   # Redirect to login page\n",
    "   return render_template('login.html')\n",
    "\n",
    "@app.route(\"/register\", methods=['GET', 'POST'])\n",
    "def register():\n",
    "    # Output message if something goes wrong...\n",
    "    msg = ''\n",
    "    # Check if \"username\", \"password\" and \"email\" POST requests exist (user submitted form)\n",
    "    if request.method == 'POST' and 'loggedin' not in session and 'username' in request.form and 'password' in request.form and 'email' in request.form:\n",
    "        # Create variables for easy access\n",
    "        username = request.form['username']\n",
    "        password = request.form['password']\n",
    "        email = request.form['email']\n",
    "        cursor.execute('SELECT * FROM accounts WHERE username = %s', (username,))\n",
    "        account = cursor.fetchone()\n",
    "        # If account exists show error and validation checks\n",
    "        if account:\n",
    "            msg = 'Account already exists!'\n",
    "        elif not re.match(r'[^@]+@[^@]+\\.[^@]+', email):\n",
    "            msg = 'Invalid email address!'\n",
    "        elif not re.match(r'[A-Za-z0-9]+', username):\n",
    "            msg = 'Username must contain only characters and numbers!'\n",
    "        elif not username or not password or not email:\n",
    "            msg = 'Please fill out the form!'\n",
    "        else:\n",
    "            # Account doesnt exists and the form data is valid, now insert new account into accounts table\n",
    "            cursor.execute('INSERT INTO accounts VALUES (NULL, %s, %s, %s)', (username, password, email,))\n",
    "            conn.commit()\n",
    "            msg = 'You have successfully registered!'\n",
    "            # Redirect to home page\n",
    "            return render_template('login.html', msg=msg)\n",
    "    elif request.method == 'POST':\n",
    "        # Form is empty... (no POST data)\n",
    "        msg = 'Please fill out the form!'\n",
    "    # Show registration form with message (if any)\n",
    "    return render_template('register.html', msg=msg)\n",
    "\n",
    "#Konversi ke Rupiah\n",
    "def transform_to_rupiah_format(value):\n",
    "    str_value = str(value)\n",
    "    separate_decimal = str_value.split(\".\")\n",
    "    after_decimal = separate_decimal[0]\n",
    "    before_decimal = separate_decimal[1]\n",
    "\n",
    "    reverse = after_decimal[::-1]\n",
    "    temp_reverse_value = \"\"\n",
    "\n",
    "    for index, val in enumerate(reverse):\n",
    "        if (index + 1) % 3 == 0 and index + 1 != len(reverse):\n",
    "            temp_reverse_value = temp_reverse_value + val + \".\"\n",
    "        else:\n",
    "            temp_reverse_value = temp_reverse_value + val\n",
    "\n",
    "    temp_result = temp_reverse_value[::-1]\n",
    "\n",
    "    return \"Rp \" + temp_result\n",
    "\n",
    "#Prediksi Data\n",
    "@app.route(\"/get_prediction\", methods=['POST','OPTIONS'])\n",
    "@cross_origin()\n",
    "def get_prediction():\n",
    "    if request.method == 'POST' and 'loggedin' in session and 'pengirim' in request.form  and 'layanan' in request.form and 'pembayaran' in request.form and 'sumber' in request.form and 'biaya' in request.form :\n",
    "        #Mengambil 3 Karakter Angka\n",
    "        string = request.form['pengirim']\n",
    "        \n",
    "        pengirim = int(string[0: 3])\n",
    "        layanan = request.form['layanan']\n",
    "        pembayaran = request.form['pembayaran']\n",
    "        sumber = request.form['sumber']\n",
    "        biaya = request.form['biaya']\n",
    "        x = biaya.replace(\"Rp. \", \"\")\n",
    "        biaya = x.replace(\".\", \"\")\n",
    "        \n",
    "        #Prediksi Data\n",
    "        data_prediksi = pd.DataFrame({\n",
    "            'Pengirim': [pengirim],\n",
    "            'Layanan': [layanan],\n",
    "            'Pembayaran': [pembayaran],\n",
    "            'Sumber': [sumber],\n",
    "            'Biaya': [biaya]\n",
    "        })\n",
    "\n",
    "        hasil_prediksi = model.predict(data_prediksi)\n",
    "        if hasil_prediksi == 1 :\n",
    "            hasil = \"SUCCESS\"\n",
    "            return render_template('index.html',prediction_text=\"Package Prediction : {} \".format(hasil))\n",
    "        else:\n",
    "            hasil = \"FAILED\"\n",
    "            return render_template('index.html',prediction_text=\"Package Prediction : {} \".format(hasil))          \n",
    "    else:\n",
    "        return render_template('index.html')\n",
    "    \n",
    "if __name__ == \"__main__\":\n",
    "  app.run()"
   ]
  },
  {
   "cell_type": "code",
   "execution_count": 23,
   "id": "58c59353-8c8c-424d-a9b3-614bc7dbce22",
   "metadata": {},
   "outputs": [
    {
     "name": "stdout",
     "output_type": "stream",
     "text": [
      "First 3 characters: 1\n"
     ]
    }
   ],
   "source": [
    "string = \"001-Shabani Official\"\n",
    "first_characters = int(string[0: 3])\n",
    "print(\"First 3 characters:\", first_characters)"
   ]
  },
  {
   "cell_type": "code",
   "execution_count": 6,
   "id": "1492d136-c22c-4dc1-9601-b702f1a1c0ff",
   "metadata": {},
   "outputs": [
    {
     "name": "stdout",
     "output_type": "stream",
     "text": [
      "   Pengirim  Layanan  Pembayaran  Sumber   Biaya  Status\n",
      "0        17        1           1       7  374962       8\n",
      "1        62        1           1       7  211860       8\n",
      "2        31        1           1       7  174982       5\n",
      "3        15        2           1       6  110000       8\n",
      "4       123        2           1       6  105000       5\n"
     ]
    }
   ],
   "source": [
    "import pandas as pd\n",
    "\n",
    "# Load the data from the Excel file\n",
    "excel_file = 'dataset.xlsx'\n",
    "data = pd.read_excel(excel_file)\n",
    "\n",
    "# Display the first few rows of the data\n",
    "print(data.head())"
   ]
  },
  {
   "cell_type": "code",
   "execution_count": 7,
   "id": "3aa4ad5d-b681-4acd-9827-149940da2ea3",
   "metadata": {},
   "outputs": [
    {
     "name": "stderr",
     "output_type": "stream",
     "text": [
      "C:\\Users\\Commander\\opencv\\Lib\\site-packages\\sklearn\\cluster\\_kmeans.py:1412: FutureWarning: The default value of `n_init` will change from 10 to 'auto' in 1.4. Set the value of `n_init` explicitly to suppress the warning\n",
      "  super()._check_params_vs_input(X, default_n_init=10)\n"
     ]
    }
   ],
   "source": [
    "from sklearn.cluster import KMeans\n",
    "\n",
    "# Select the features for clustering\n",
    "features = data[['Pengirim', 'Layanan', 'Pembayaran', 'Sumber', 'Biaya', 'Status']]  # Replace 'Feature1' and 'Feature2' with your column names\n",
    "\n",
    "# Create KMeans instance\n",
    "num_clusters = 3\n",
    "kmeans = KMeans(n_clusters=num_clusters)\n",
    "\n",
    "# Fit and predict\n",
    "labels = kmeans.fit_predict(features)"
   ]
  },
  {
   "cell_type": "code",
   "execution_count": null,
   "id": "cdb0cf47-653b-47f5-963f-0fabb607d48e",
   "metadata": {},
   "outputs": [],
   "source": [
    "#=IF(L2=\"Other\";1;IF(L2=\"Delivery\";2;IF(L2=\"Kirim\";3;IF(L2=\"Pack\";4;IF(L2=\"Paket Bermasalah\";5;IF(L2=\"Paket Tinggal Gudang\";6;IF(L2=\"Sampai\";7;IF(L2=\"Tanda Terima\";8;IF(L2=\"TTD Retur\";9;0)))))))))"
   ]
  },
  {
   "cell_type": "code",
   "execution_count": 9,
   "id": "5cc25926-599c-42d0-83b5-8a0056a4468f",
   "metadata": {},
   "outputs": [
    {
     "data": {
      "image/png": "[encoded data removed]",
      "text/plain": [
       "<Figure size 640x480 with 1 Axes>"
      ]
     },
     "metadata": {},
     "output_type": "display_data"
    }
   ],
   "source": [
    "import matplotlib.pyplot as plt\n",
    "\n",
    "# Add the cluster labels as a new column in the data\n",
    "data['Cluster'] = labels\n",
    "\n",
    "# Plot the data points with different colors for each cluster\n",
    "plt.scatter(data['Pengirim'], data['Status'], c=data['Cluster'], cmap='rainbow')\n",
    "plt.xlabel('Pengirim')\n",
    "plt.ylabel('Status')\n",
    "plt.title('Clustering Results')\n",
    "plt.show()"
   ]
  },
  {
   "cell_type": "code",
   "execution_count": 10,
   "id": "180b61bc-c20e-42ab-a863-b2baf9ce97aa",
   "metadata": {},
   "outputs": [
    {
     "data": {
      "image/png": "[encoded data removed]",
      "text/plain": [
       "<Figure size 640x480 with 1 Axes>"
      ]
     },
     "metadata": {},
     "output_type": "display_data"
    }
   ],
   "source": [
    "import matplotlib.pyplot as plt\n",
    "\n",
    "# Add the cluster labels as a new column in the data\n",
    "data['Cluster'] = labels\n",
    "\n",
    "#features = data[['Pengirim', 'Layanan', 'Pembayaran', 'Sumber', 'Biaya', 'Status']] \n",
    "# Plot the data points with different colors for each cluster\n",
    "plt.scatter(data['Layanan'], data['Status'], c=data['Cluster'], cmap='rainbow')\n",
    "plt.xlabel('Layanan')\n",
    "plt.ylabel('Status')\n",
    "plt.title('Clustering Results')\n",
    "plt.show()"
   ]
  },
  {
   "cell_type": "code",
   "execution_count": 11,
   "id": "14f4992d-48bf-467c-8c26-f34808a91984",
   "metadata": {},
   "outputs": [
    {
     "data": {
      "image/png": "[encoded data removed]",
      "text/plain": [
       "<Figure size 640x480 with 1 Axes>"
      ]
     },
     "metadata": {},
     "output_type": "display_data"
    }
   ],
   "source": [
    "import matplotlib.pyplot as plt\n",
    "\n",
    "# Add the cluster labels as a new column in the data\n",
    "data['Cluster'] = labels\n",
    "\n",
    "#features = data[['Pengirim', 'Layanan', 'Pembayaran', 'Sumber', 'Biaya', 'Status']] \n",
    "# Plot the data points with different colors for each cluster\n",
    "plt.scatter(data['Pembayaran'], data['Status'], c=data['Cluster'], cmap='rainbow')\n",
    "plt.xlabel('Pembayaran')\n",
    "plt.ylabel('Status')\n",
    "plt.title('Clustering Results')\n",
    "plt.show()"
   ]
  },
  {
   "cell_type": "code",
   "execution_count": 12,
   "id": "80c12cda-1b25-4e80-9776-a113bb527368",
   "metadata": {},
   "outputs": [
    {
     "data": {
      "image/png": "[encoded data removed]",
      "text/plain": [
       "<Figure size 640x480 with 1 Axes>"
      ]
     },
     "metadata": {},
     "output_type": "display_data"
    }
   ],
   "source": [
    "import matplotlib.pyplot as plt\n",
    "\n",
    "# Add the cluster labels as a new column in the data\n",
    "data['Cluster'] = labels\n",
    "\n",
    "#features = data[['Pengirim', 'Layanan', 'Pembayaran', 'Sumber', 'Biaya', 'Status']] \n",
    "# Plot the data points with different colors for each cluster\n",
    "plt.scatter(data['Sumber'], data['Status'], c=data['Cluster'], cmap='rainbow')\n",
    "plt.xlabel('Sumber')\n",
    "plt.ylabel('Status')\n",
    "plt.title('Clustering Results')\n",
    "plt.show()"
   ]
  },
  {
   "cell_type": "code",
   "execution_count": 13,
   "id": "30212be0-2721-48f6-aca1-dd134f6adb95",
   "metadata": {},
   "outputs": [
    {
     "data": {
      "image/png": "[encoded data removed]",
      "text/plain": [
       "<Figure size 640x480 with 1 Axes>"
      ]
     },
     "metadata": {},
     "output_type": "display_data"
    }
   ],
   "source": [
    "import matplotlib.pyplot as plt\n",
    "\n",
    "# Add the cluster labels as a new column in the data\n",
    "data['Cluster'] = labels\n",
    "\n",
    "#features = data[['Pengirim', 'Layanan', 'Pembayaran', 'Sumber', 'Biaya', 'Status']] \n",
    "# Plot the data points with different colors for each cluster\n",
    "plt.scatter(data['Biaya'], data['Status'], c=data['Cluster'], cmap='rainbow')\n",
    "plt.xlabel('Biaya')\n",
    "plt.ylabel('Status')\n",
    "plt.title('Clustering Results')\n",
    "plt.show()"
   ]
  },
  {
   "cell_type": "code",
   "execution_count": 47,
   "id": "cdf0c528-5f77-4a08-8bb9-d03719353de5",
   "metadata": {},
   "outputs": [],
   "source": [
    "import numpy as np # linear algebra\n",
    "import pandas as pd # data processing, CSV file I/O (e.g. pd.read_csv)\n",
    "import matplotlib.pyplot as plt # for data visualization\n",
    "import seaborn as sns # for statistical data visualization\n",
    "%matplotlib inline"
   ]
  },
  {
   "cell_type": "code",
   "execution_count": 53,
   "id": "69f0ae40-d6d3-474e-bf92-9335c4104107",
   "metadata": {},
   "outputs": [
    {
     "name": "stdout",
     "output_type": "stream",
     "text": [
      "   Pengirim  Layanan  Pembayaran  Sumber   Biaya  Status\n",
      "0        17        1           1       7  374962       8\n",
      "1        62        1           1       7  211860       8\n",
      "2        31        1           1       7  174982       5\n",
      "3        15        2           1       6  110000       8\n",
      "4       123        2           1       6  105000       5\n"
     ]
    }
   ],
   "source": [
    "import pandas as pd\n",
    "\n",
    "# Load the data from the Excel file\n",
    "excel_file = 'dataset1.xlsx'\n",
    "df = pd.read_excel(excel_file)\n",
    "\n",
    "# Display the first few rows of the data\n",
    "print(data.head())"
   ]
  },
  {
   "cell_type": "code",
   "execution_count": 54,
   "id": "695f0dce-8acc-46dd-ad6a-9a77a730600a",
   "metadata": {},
   "outputs": [
    {
     "name": "stdout",
     "output_type": "stream",
     "text": [
      "<class 'pandas.core.frame.DataFrame'>\n",
      "RangeIndex: 2926 entries, 0 to 2925\n",
      "Data columns (total 5 columns):\n",
      " #   Column    Non-Null Count  Dtype\n",
      "---  ------    --------------  -----\n",
      " 0   Pengirim  2926 non-null   int64\n",
      " 1   Layanan   2926 non-null   int64\n",
      " 2   Sumber    2926 non-null   int64\n",
      " 3   Biaya     2926 non-null   int64\n",
      " 4   Status    2926 non-null   int64\n",
      "dtypes: int64(5)\n",
      "memory usage: 114.4 KB\n"
     ]
    }
   ],
   "source": [
    "df.shape\n",
    "df.info()"
   ]
  },
  {
   "cell_type": "code",
   "execution_count": 55,
   "id": "0e42832f-9f21-43c0-b471-206ecc41589e",
   "metadata": {},
   "outputs": [
    {
     "data": {
      "text/plain": [
       "Pengirim    0\n",
       "Layanan     0\n",
       "Sumber      0\n",
       "Biaya       0\n",
       "Status      0\n",
       "dtype: int64"
      ]
     },
     "execution_count": 55,
     "metadata": {},
     "output_type": "execute_result"
    }
   ],
   "source": [
    "df.isnull().sum()"
   ]
  },
  {
   "cell_type": "code",
   "execution_count": 56,
   "id": "d10c14c5-b750-487d-8ebc-161c7556c27d",
   "metadata": {},
   "outputs": [
    {
     "data": {
      "text/html": [
       "<div>\n",
       "<style scoped>\n",
       "    .dataframe tbody tr th:only-of-type {\n",
       "        vertical-align: middle;\n",
       "    }\n",
       "\n",
       "    .dataframe tbody tr th {\n",
       "        vertical-align: top;\n",
       "    }\n",
       "\n",
       "    .dataframe thead th {\n",
       "        text-align: right;\n",
       "    }\n",
       "</style>\n",
       "<table border=\"1\" class=\"dataframe\">\n",
       "  <thead>\n",
       "    <tr style=\"text-align: right;\">\n",
       "      <th></th>\n",
       "      <th>Pengirim</th>\n",
       "      <th>Layanan</th>\n",
       "      <th>Sumber</th>\n",
       "      <th>Biaya</th>\n",
       "      <th>Status</th>\n",
       "    </tr>\n",
       "  </thead>\n",
       "  <tbody>\n",
       "    <tr>\n",
       "      <th>count</th>\n",
       "      <td>2926.000000</td>\n",
       "      <td>2926.000000</td>\n",
       "      <td>2926.000000</td>\n",
       "      <td>2926.000000</td>\n",
       "      <td>2926.000000</td>\n",
       "    </tr>\n",
       "    <tr>\n",
       "      <th>mean</th>\n",
       "      <td>61.575871</td>\n",
       "      <td>1.552973</td>\n",
       "      <td>6.619959</td>\n",
       "      <td>23000.517088</td>\n",
       "      <td>7.560150</td>\n",
       "    </tr>\n",
       "    <tr>\n",
       "      <th>std</th>\n",
       "      <td>37.452879</td>\n",
       "      <td>0.497271</td>\n",
       "      <td>0.572711</td>\n",
       "      <td>16298.792519</td>\n",
       "      <td>1.590024</td>\n",
       "    </tr>\n",
       "    <tr>\n",
       "      <th>min</th>\n",
       "      <td>1.000000</td>\n",
       "      <td>1.000000</td>\n",
       "      <td>1.000000</td>\n",
       "      <td>3880.000000</td>\n",
       "      <td>1.000000</td>\n",
       "    </tr>\n",
       "    <tr>\n",
       "      <th>25%</th>\n",
       "      <td>24.000000</td>\n",
       "      <td>1.000000</td>\n",
       "      <td>6.000000</td>\n",
       "      <td>13095.000000</td>\n",
       "      <td>8.000000</td>\n",
       "    </tr>\n",
       "    <tr>\n",
       "      <th>50%</th>\n",
       "      <td>59.000000</td>\n",
       "      <td>2.000000</td>\n",
       "      <td>7.000000</td>\n",
       "      <td>22028.000000</td>\n",
       "      <td>8.000000</td>\n",
       "    </tr>\n",
       "    <tr>\n",
       "      <th>75%</th>\n",
       "      <td>96.000000</td>\n",
       "      <td>2.000000</td>\n",
       "      <td>7.000000</td>\n",
       "      <td>28710.000000</td>\n",
       "      <td>8.000000</td>\n",
       "    </tr>\n",
       "    <tr>\n",
       "      <th>max</th>\n",
       "      <td>128.000000</td>\n",
       "      <td>2.000000</td>\n",
       "      <td>8.000000</td>\n",
       "      <td>374962.000000</td>\n",
       "      <td>9.000000</td>\n",
       "    </tr>\n",
       "  </tbody>\n",
       "</table>\n",
       "</div>"
      ],
      "text/plain": [
       "          Pengirim      Layanan       Sumber          Biaya       Status\n",
       "count  2926.000000  2926.000000  2926.000000    2926.000000  2926.000000\n",
       "mean     61.575871     1.552973     6.619959   23000.517088     7.560150\n",
       "std      37.452879     0.497271     0.572711   16298.792519     1.590024\n",
       "min       1.000000     1.000000     1.000000    3880.000000     1.000000\n",
       "25%      24.000000     1.000000     6.000000   13095.000000     8.000000\n",
       "50%      59.000000     2.000000     7.000000   22028.000000     8.000000\n",
       "75%      96.000000     2.000000     7.000000   28710.000000     8.000000\n",
       "max     128.000000     2.000000     8.000000  374962.000000     9.000000"
      ]
     },
     "execution_count": 56,
     "metadata": {},
     "output_type": "execute_result"
    }
   ],
   "source": [
    "df.describe()"
   ]
  },
  {
   "cell_type": "code",
   "execution_count": 57,
   "id": "45688956-a159-4ee3-9e0f-5dbe93557686",
   "metadata": {},
   "outputs": [
    {
     "data": {
      "text/plain": [
       "array([8, 5, 9, 2, 1, 7, 3, 4, 6], dtype=int64)"
      ]
     },
     "execution_count": 57,
     "metadata": {},
     "output_type": "execute_result"
    }
   ],
   "source": [
    "df['Status'].unique()"
   ]
  },
  {
   "cell_type": "code",
   "execution_count": 58,
   "id": "d39218f2-f8b3-417f-878f-589b8857d231",
   "metadata": {},
   "outputs": [
    {
     "data": {
      "text/plain": [
       "9"
      ]
     },
     "execution_count": 58,
     "metadata": {},
     "output_type": "execute_result"
    }
   ],
   "source": [
    "# view how many different types of variables are there\n",
    "\n",
    "len(df['Status'].unique())"
   ]
  },
  {
   "cell_type": "code",
   "execution_count": 59,
   "id": "592345e9-0f4e-4fed-87c5-812175881f69",
   "metadata": {},
   "outputs": [],
   "source": [
    "X = df\n",
    "\n",
    "y = df['Status']"
   ]
  },
  {
   "cell_type": "code",
   "execution_count": 60,
   "id": "25641888-aaa7-4da1-8649-b50d2171996b",
   "metadata": {},
   "outputs": [],
   "source": [
    "from sklearn.preprocessing import LabelEncoder\n",
    "\n",
    "le = LabelEncoder()\n",
    "\n",
    "X['Status'] = le.fit_transform(X['Status'])\n",
    "\n",
    "y = le.transform(y)"
   ]
  },
  {
   "cell_type": "code",
   "execution_count": 61,
   "id": "4371b6c7-edbf-4a17-ac09-bbb555e3ed9e",
   "metadata": {},
   "outputs": [
    {
     "name": "stdout",
     "output_type": "stream",
     "text": [
      "<class 'pandas.core.frame.DataFrame'>\n",
      "RangeIndex: 2926 entries, 0 to 2925\n",
      "Data columns (total 5 columns):\n",
      " #   Column    Non-Null Count  Dtype\n",
      "---  ------    --------------  -----\n",
      " 0   Pengirim  2926 non-null   int64\n",
      " 1   Layanan   2926 non-null   int64\n",
      " 2   Sumber    2926 non-null   int64\n",
      " 3   Biaya     2926 non-null   int64\n",
      " 4   Status    2926 non-null   int64\n",
      "dtypes: int64(5)\n",
      "memory usage: 114.4 KB\n"
     ]
    }
   ],
   "source": [
    "X.info()"
   ]
  },
  {
   "cell_type": "code",
   "execution_count": 62,
   "id": "59b51345-d3b5-4aa1-afe7-cd31ec5a12a4",
   "metadata": {},
   "outputs": [
    {
     "data": {
      "text/html": [
       "<div>\n",
       "<style scoped>\n",
       "    .dataframe tbody tr th:only-of-type {\n",
       "        vertical-align: middle;\n",
       "    }\n",
       "\n",
       "    .dataframe tbody tr th {\n",
       "        vertical-align: top;\n",
       "    }\n",
       "\n",
       "    .dataframe thead tr th {\n",
       "        text-align: left;\n",
       "    }\n",
       "</style>\n",
       "<table border=\"1\" class=\"dataframe\">\n",
       "  <thead>\n",
       "    <tr>\n",
       "      <th></th>\n",
       "      <th>Pengirim</th>\n",
       "      <th>Layanan</th>\n",
       "      <th>Sumber</th>\n",
       "      <th>Biaya</th>\n",
       "      <th>Status</th>\n",
       "    </tr>\n",
       "  </thead>\n",
       "  <tbody>\n",
       "    <tr>\n",
       "      <th>0</th>\n",
       "      <td>0.125984</td>\n",
       "      <td>0.0</td>\n",
       "      <td>0.857143</td>\n",
       "      <td>1.000000</td>\n",
       "      <td>0.875</td>\n",
       "    </tr>\n",
       "    <tr>\n",
       "      <th>1</th>\n",
       "      <td>0.480315</td>\n",
       "      <td>0.0</td>\n",
       "      <td>0.857143</td>\n",
       "      <td>0.560469</td>\n",
       "      <td>0.875</td>\n",
       "    </tr>\n",
       "    <tr>\n",
       "      <th>2</th>\n",
       "      <td>0.236220</td>\n",
       "      <td>0.0</td>\n",
       "      <td>0.857143</td>\n",
       "      <td>0.461089</td>\n",
       "      <td>0.500</td>\n",
       "    </tr>\n",
       "    <tr>\n",
       "      <th>3</th>\n",
       "      <td>0.110236</td>\n",
       "      <td>1.0</td>\n",
       "      <td>0.714286</td>\n",
       "      <td>0.285975</td>\n",
       "      <td>0.875</td>\n",
       "    </tr>\n",
       "    <tr>\n",
       "      <th>4</th>\n",
       "      <td>0.960630</td>\n",
       "      <td>1.0</td>\n",
       "      <td>0.714286</td>\n",
       "      <td>0.272500</td>\n",
       "      <td>0.500</td>\n",
       "    </tr>\n",
       "  </tbody>\n",
       "</table>\n",
       "</div>"
      ],
      "text/plain": [
       "   Pengirim Layanan    Sumber     Biaya Status\n",
       "0  0.125984     0.0  0.857143  1.000000  0.875\n",
       "1  0.480315     0.0  0.857143  0.560469  0.875\n",
       "2  0.236220     0.0  0.857143  0.461089  0.500\n",
       "3  0.110236     1.0  0.714286  0.285975  0.875\n",
       "4  0.960630     1.0  0.714286  0.272500  0.500"
      ]
     },
     "execution_count": 62,
     "metadata": {},
     "output_type": "execute_result"
    }
   ],
   "source": [
    "cols = X.columns\n",
    "from sklearn.preprocessing import MinMaxScaler\n",
    "\n",
    "ms = MinMaxScaler()\n",
    "\n",
    "X = ms.fit_transform(X)\n",
    "X = pd.DataFrame(X, columns=[cols])\n",
    "X.head()"
   ]
  },
  {
   "cell_type": "code",
   "execution_count": 63,
   "id": "57134a83-6b9a-4c55-9435-671e6ae88df8",
   "metadata": {},
   "outputs": [
    {
     "name": "stderr",
     "output_type": "stream",
     "text": [
      "C:\\Users\\Commander\\opencv\\Lib\\site-packages\\sklearn\\cluster\\_kmeans.py:1412: FutureWarning: The default value of `n_init` will change from 10 to 'auto' in 1.4. Set the value of `n_init` explicitly to suppress the warning\n",
      "  super()._check_params_vs_input(X, default_n_init=10)\n"
     ]
    },
    {
     "data": {
      "text/html": [
       "<style>#sk-container-id-3 {color: black;}#sk-container-id-3 pre{padding: 0;}#sk-container-id-3 div.sk-toggleable {background-color: white;}#sk-container-id-3 label.sk-toggleable__label {cursor: pointer;display: block;width: 100%;margin-bottom: 0;padding: 0.3em;box-sizing: border-box;text-align: center;}#sk-container-id-3 label.sk-toggleable__label-arrow:before {content: \"▸\";float: left;margin-right: 0.25em;color: #696969;}#sk-container-id-3 label.sk-toggleable__label-arrow:hover:before {color: black;}#sk-container-id-3 div.sk-estimator:hover label.sk-toggleable__label-arrow:before {color: black;}#sk-container-id-3 div.sk-toggleable__content {max-height: 0;max-width: 0;overflow: hidden;text-align: left;background-color: #f0f8ff;}#sk-container-id-3 div.sk-toggleable__content pre {margin: 0.2em;color: black;border-radius: 0.25em;background-color: #f0f8ff;}#sk-container-id-3 input.sk-toggleable__control:checked~div.sk-toggleable__content {max-height: 200px;max-width: 100%;overflow: auto;}#sk-container-id-3 input.sk-toggleable__control:checked~label.sk-toggleable__label-arrow:before {content: \"▾\";}#sk-container-id-3 div.sk-estimator input.sk-toggleable__control:checked~label.sk-toggleable__label {background-color: #d4ebff;}#sk-container-id-3 div.sk-label input.sk-toggleable__control:checked~label.sk-toggleable__label {background-color: #d4ebff;}#sk-container-id-3 input.sk-hidden--visually {border: 0;clip: rect(1px 1px 1px 1px);clip: rect(1px, 1px, 1px, 1px);height: 1px;margin: -1px;overflow: hidden;padding: 0;position: absolute;width: 1px;}#sk-container-id-3 div.sk-estimator {font-family: monospace;background-color: #f0f8ff;border: 1px dotted black;border-radius: 0.25em;box-sizing: border-box;margin-bottom: 0.5em;}#sk-container-id-3 div.sk-estimator:hover {background-color: #d4ebff;}#sk-container-id-3 div.sk-parallel-item::after {content: \"\";width: 100%;border-bottom: 1px solid gray;flex-grow: 1;}#sk-container-id-3 div.sk-label:hover label.sk-toggleable__label {background-color: #d4ebff;}#sk-container-id-3 div.sk-serial::before {content: \"\";position: absolute;border-left: 1px solid gray;box-sizing: border-box;top: 0;bottom: 0;left: 50%;z-index: 0;}#sk-container-id-3 div.sk-serial {display: flex;flex-direction: column;align-items: center;background-color: white;padding-right: 0.2em;padding-left: 0.2em;position: relative;}#sk-container-id-3 div.sk-item {position: relative;z-index: 1;}#sk-container-id-3 div.sk-parallel {display: flex;align-items: stretch;justify-content: center;background-color: white;position: relative;}#sk-container-id-3 div.sk-item::before, #sk-container-id-3 div.sk-parallel-item::before {content: \"\";position: absolute;border-left: 1px solid gray;box-sizing: border-box;top: 0;bottom: 0;left: 50%;z-index: -1;}#sk-container-id-3 div.sk-parallel-item {display: flex;flex-direction: column;z-index: 1;position: relative;background-color: white;}#sk-container-id-3 div.sk-parallel-item:first-child::after {align-self: flex-end;width: 50%;}#sk-container-id-3 div.sk-parallel-item:last-child::after {align-self: flex-start;width: 50%;}#sk-container-id-3 div.sk-parallel-item:only-child::after {width: 0;}#sk-container-id-3 div.sk-dashed-wrapped {border: 1px dashed gray;margin: 0 0.4em 0.5em 0.4em;box-sizing: border-box;padding-bottom: 0.4em;background-color: white;}#sk-container-id-3 div.sk-label label {font-family: monospace;font-weight: bold;display: inline-block;line-height: 1.2em;}#sk-container-id-3 div.sk-label-container {text-align: center;}#sk-container-id-3 div.sk-container {/* jupyter's `normalize.less` sets `[hidden] { display: none; }` but bootstrap.min.css set `[hidden] { display: none !important; }` so we also need the `!important` here to be able to override the default hidden behavior on the sphinx rendered scikit-learn.org. See: https://github.com/scikit-learn/scikit-learn/issues/21755 */display: inline-block !important;position: relative;}#sk-container-id-3 div.sk-text-repr-fallback {display: none;}</style><div id=\"sk-container-id-3\" class=\"sk-top-container\"><div class=\"sk-text-repr-fallback\"><pre>KMeans(n_clusters=5, random_state=0)</pre><b>In a Jupyter environment, please rerun this cell to show the HTML representation or trust the notebook. <br />On GitHub, the HTML representation is unable to render, please try loading this page with nbviewer.org.</b></div><div class=\"sk-container\" hidden><div class=\"sk-item\"><div class=\"sk-estimator sk-toggleable\"><input class=\"sk-toggleable__control sk-hidden--visually\" id=\"sk-estimator-id-3\" type=\"checkbox\" checked><label for=\"sk-estimator-id-3\" class=\"sk-toggleable__label sk-toggleable__label-arrow\">KMeans</label><div class=\"sk-toggleable__content\"><pre>KMeans(n_clusters=5, random_state=0)</pre></div></div></div></div></div>"
      ],
      "text/plain": [
       "KMeans(n_clusters=5, random_state=0)"
      ]
     },
     "execution_count": 63,
     "metadata": {},
     "output_type": "execute_result"
    }
   ],
   "source": [
    "from sklearn.cluster import KMeans\n",
    "\n",
    "kmeans = KMeans(n_clusters=5, random_state=0) \n",
    "\n",
    "kmeans.fit(X)"
   ]
  },
  {
   "cell_type": "code",
   "execution_count": 64,
   "id": "800c7e9e-c320-42f2-bcae-e10db36876bf",
   "metadata": {},
   "outputs": [
    {
     "data": {
      "text/plain": [
       "array([[ 2.69935273e-01,  1.00000000e+00,  7.77845036e-01,\n",
       "         4.16995583e-02,  8.29316737e-01],\n",
       "       [ 2.04915741e-01,  1.55431223e-15,  8.34979973e-01,\n",
       "         6.17315255e-02,  9.02570093e-01],\n",
       "       [ 8.17799481e-01,  1.00000000e+00,  7.74904621e-01,\n",
       "         4.70039039e-02,  8.24740356e-01],\n",
       "       [ 7.02683761e-01,  7.77156117e-16,  8.36699078e-01,\n",
       "         5.99669889e-02,  8.69109948e-01],\n",
       "       [ 3.86732283e-01, -6.66133815e-16,  8.32142857e-01,\n",
       "         6.16688091e-02,  3.98750000e-01]])"
      ]
     },
     "execution_count": 64,
     "metadata": {},
     "output_type": "execute_result"
    }
   ],
   "source": [
    "kmeans.cluster_centers_"
   ]
  },
  {
   "cell_type": "code",
   "execution_count": 65,
   "id": "0c620b32-507a-49ca-9262-4395a03ffbad",
   "metadata": {},
   "outputs": [
    {
     "data": {
      "text/plain": [
       "162.63898936180956"
      ]
     },
     "execution_count": 65,
     "metadata": {},
     "output_type": "execute_result"
    }
   ],
   "source": [
    "kmeans.inertia_"
   ]
  },
  {
   "cell_type": "code",
   "execution_count": 66,
   "id": "348342f7-c3fc-48ea-82c5-182ee7bca2f7",
   "metadata": {},
   "outputs": [
    {
     "name": "stdout",
     "output_type": "stream",
     "text": [
      "Result: 170 out of 2926 samples were correctly labeled.\n",
      "Accuracy score: 0.06\n"
     ]
    }
   ],
   "source": [
    "labels = kmeans.labels_\n",
    "\n",
    "# check how many of the samples were correctly labeled\n",
    "correct_labels = sum(y == labels)\n",
    "\n",
    "print(\"Result: %d out of %d samples were correctly labeled.\" % (correct_labels, y.size))\n",
    "print('Accuracy score: {0:0.2f}'. format(correct_labels/float(y.size)))"
   ]
  },
  {
   "cell_type": "code",
   "execution_count": 67,
   "id": "ca05944e-108c-4798-9cd2-f128edc30fd5",
   "metadata": {},
   "outputs": [
    {
     "data": {
      "image/png": "[encoded data removed]",
      "text/plain": [
       "<Figure size 640x480 with 1 Axes>"
      ]
     },
     "metadata": {},
     "output_type": "display_data"
    }
   ],
   "source": [
    "from sklearn.cluster import KMeans\n",
    "cs = []\n",
    "for i in range(1, 11):\n",
    "    kmeans = KMeans(n_clusters = i, init = 'k-means++', max_iter = 300, n_init = 10, random_state = 0)\n",
    "    kmeans.fit(X)\n",
    "    cs.append(kmeans.inertia_)\n",
    "plt.plot(range(1, 11), cs)\n",
    "plt.title('The Elbow Method')\n",
    "plt.xlabel('Number of clusters')\n",
    "plt.ylabel('CS')\n",
    "plt.show()"
   ]
  },
  {
   "cell_type": "code",
   "execution_count": 79,
   "id": "a564b005-ffc2-424a-ae04-02712b200cb3",
   "metadata": {},
   "outputs": [
    {
     "name": "stderr",
     "output_type": "stream",
     "text": [
      "C:\\Users\\Commander\\opencv\\Lib\\site-packages\\sklearn\\cluster\\_kmeans.py:1412: FutureWarning: The default value of `n_init` will change from 10 to 'auto' in 1.4. Set the value of `n_init` explicitly to suppress the warning\n",
      "  super()._check_params_vs_input(X, default_n_init=10)\n"
     ]
    },
    {
     "name": "stdout",
     "output_type": "stream",
     "text": [
      "Result: 85 out of 2926 samples were correctly labeled.\n",
      "Accuracy score: 0.03\n"
     ]
    }
   ],
   "source": [
    "from sklearn.cluster import KMeans\n",
    "\n",
    "kmeans = KMeans(n_clusters=30,random_state=0)\n",
    "\n",
    "kmeans.fit(X)\n",
    "\n",
    "labels = kmeans.labels_\n",
    "\n",
    "# check how many of the samples were correctly labeled\n",
    "\n",
    "correct_labels = sum(y == labels)\n",
    "\n",
    "print(\"Result: %d out of %d samples were correctly labeled.\" % (correct_labels, y.size))\n",
    "\n",
    "print('Accuracy score: {0:0.2f}'. format(correct_labels/float(y.size)))"
   ]
  },
  {
   "cell_type": "code",
   "execution_count": 37,
   "id": "27f51014-46d9-4f3f-9d86-bb0a65c4e09a",
   "metadata": {},
   "outputs": [
    {
     "name": "stdout",
     "output_type": "stream",
     "text": [
      "Result: 17 out of 2926 samples were correctly labeled.\n",
      "Accuracy score: 0.01\n"
     ]
    },
    {
     "name": "stderr",
     "output_type": "stream",
     "text": [
      "C:\\Users\\Commander\\opencv\\Lib\\site-packages\\sklearn\\cluster\\_kmeans.py:1412: FutureWarning: The default value of `n_init` will change from 10 to 'auto' in 1.4. Set the value of `n_init` explicitly to suppress the warning\n",
      "  super()._check_params_vs_input(X, default_n_init=10)\n"
     ]
    }
   ],
   "source": [
    "kmeans = KMeans(n_clusters=3, random_state=0)\n",
    "\n",
    "kmeans.fit(X)\n",
    "\n",
    "# check how many of the samples were correctly labeled\n",
    "labels = kmeans.labels_\n",
    "\n",
    "correct_labels = sum(y == labels)\n",
    "print(\"Result: %d out of %d samples were correctly labeled.\" % (correct_labels, y.size))\n",
    "print('Accuracy score: {0:0.2f}'. format(correct_labels/float(y.size)))"
   ]
  },
  {
   "cell_type": "code",
   "execution_count": 45,
   "id": "3fda40c3-cfed-4006-beab-7b768e658c3a",
   "metadata": {},
   "outputs": [
    {
     "name": "stdout",
     "output_type": "stream",
     "text": [
      "Result: 93 out of 2926 samples were correctly labeled.\n",
      "Accuracy score: 0.03\n"
     ]
    },
    {
     "name": "stderr",
     "output_type": "stream",
     "text": [
      "C:\\Users\\Commander\\opencv\\Lib\\site-packages\\sklearn\\cluster\\_kmeans.py:1412: FutureWarning: The default value of `n_init` will change from 10 to 'auto' in 1.4. Set the value of `n_init` explicitly to suppress the warning\n",
      "  super()._check_params_vs_input(X, default_n_init=10)\n"
     ]
    }
   ],
   "source": [
    "kmeans = KMeans(n_clusters=12, random_state=0)\n",
    "\n",
    "kmeans.fit(X)\n",
    "\n",
    "# check how many of the samples were correctly labeled\n",
    "labels = kmeans.labels_\n",
    "\n",
    "correct_labels = sum(y == labels)\n",
    "print(\"Result: %d out of %d samples were correctly labeled.\" % (correct_labels, y.size))\n",
    "print('Accuracy score: {0:0.2f}'. format(correct_labels/float(y.size)))"
   ]
  },
  {
   "cell_type": "code",
   "execution_count": null,
   "id": "0bf68395-3a0c-4a8b-b13c-dde9184a8fc2",
   "metadata": {},
   "outputs": [],
   "source": []
  }
 ],
 "metadata": {
  "kernelspec": {
   "display_name": "Python 3 (ipykernel)",
   "language": "python",
   "name": "python3"
  },
  "language_info": {
   "codemirror_mode": {
    "name": "ipython",
    "version": 3
   },
   "file_extension": ".py",
   "mimetype": "text/x-python",
   "name": "python",
   "nbconvert_exporter": "python",
   "pygments_lexer": "ipython3",
   "version": "3.11.4"
  }
 },
 "nbformat": 4,
 "nbformat_minor": 5
}
