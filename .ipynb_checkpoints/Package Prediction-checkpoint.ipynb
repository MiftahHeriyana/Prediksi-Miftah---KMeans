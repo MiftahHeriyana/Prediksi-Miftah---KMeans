{
 "cells": [
  {
   "cell_type": "code",
   "execution_count": 12,
   "id": "a02f8eda",
   "metadata": {},
   "outputs": [],
   "source": [
    "import numpy as np\n",
    "import pandas as pd\n",
    "import matplotlib.pyplot as plt\n",
    "import seaborn as sns\n",
    "from sklearn.preprocessing import LabelEncoder\n",
    "from sklearn.model_selection import train_test_split\n",
    "from sklearn.neighbors import KNeighborsClassifier\n",
    "from sklearn.preprocessing import StandardScaler"
   ]
  },
  {
   "cell_type": "code",
   "execution_count": 13,
   "id": "32d4dac4",
   "metadata": {},
   "outputs": [
    {
     "data": {
      "text/html": [
       "<div>\n",
       "<style scoped>\n",
       "    .dataframe tbody tr th:only-of-type {\n",
       "        vertical-align: middle;\n",
       "    }\n",
       "\n",
       "    .dataframe tbody tr th {\n",
       "        vertical-align: top;\n",
       "    }\n",
       "\n",
       "    .dataframe thead th {\n",
       "        text-align: right;\n",
       "    }\n",
       "</style>\n",
       "<table border=\"1\" class=\"dataframe\">\n",
       "  <thead>\n",
       "    <tr style=\"text-align: right;\">\n",
       "      <th></th>\n",
       "      <th>Pengirim</th>\n",
       "      <th>Layanan</th>\n",
       "      <th>Pembayaran</th>\n",
       "      <th>Sumber</th>\n",
       "      <th>Biaya</th>\n",
       "      <th>Status</th>\n",
       "    </tr>\n",
       "  </thead>\n",
       "  <tbody>\n",
       "    <tr>\n",
       "      <th>0</th>\n",
       "      <td>17</td>\n",
       "      <td>1</td>\n",
       "      <td>1</td>\n",
       "      <td>7</td>\n",
       "      <td>374962</td>\n",
       "      <td>0</td>\n",
       "    </tr>\n",
       "    <tr>\n",
       "      <th>1</th>\n",
       "      <td>62</td>\n",
       "      <td>1</td>\n",
       "      <td>1</td>\n",
       "      <td>7</td>\n",
       "      <td>211860</td>\n",
       "      <td>0</td>\n",
       "    </tr>\n",
       "    <tr>\n",
       "      <th>2</th>\n",
       "      <td>31</td>\n",
       "      <td>1</td>\n",
       "      <td>1</td>\n",
       "      <td>7</td>\n",
       "      <td>174982</td>\n",
       "      <td>0</td>\n",
       "    </tr>\n",
       "    <tr>\n",
       "      <th>3</th>\n",
       "      <td>15</td>\n",
       "      <td>2</td>\n",
       "      <td>1</td>\n",
       "      <td>6</td>\n",
       "      <td>110000</td>\n",
       "      <td>1</td>\n",
       "    </tr>\n",
       "    <tr>\n",
       "      <th>4</th>\n",
       "      <td>123</td>\n",
       "      <td>2</td>\n",
       "      <td>1</td>\n",
       "      <td>6</td>\n",
       "      <td>105000</td>\n",
       "      <td>0</td>\n",
       "    </tr>\n",
       "  </tbody>\n",
       "</table>\n",
       "</div>"
      ],
      "text/plain": [
       "   Pengirim  Layanan  Pembayaran  Sumber   Biaya  Status\n",
       "0        17        1           1       7  374962       0\n",
       "1        62        1           1       7  211860       0\n",
       "2        31        1           1       7  174982       0\n",
       "3        15        2           1       6  110000       1\n",
       "4       123        2           1       6  105000       0"
      ]
     },
     "execution_count": 13,
     "metadata": {},
     "output_type": "execute_result"
    }
   ],
   "source": [
    "#Membaca dataset\n",
    "dt = pd.read_excel(\"dataset.xlsx\")\n",
    "\n",
    "dt.head()"
   ]
  },
  {
   "cell_type": "code",
   "execution_count": 14,
   "id": "ba9738c0",
   "metadata": {},
   "outputs": [
    {
     "data": {
      "text/plain": [
       "Pengirim      0\n",
       "Layanan       0\n",
       "Pembayaran    0\n",
       "Sumber        0\n",
       "Biaya         0\n",
       "Status        0\n",
       "dtype: int64"
      ]
     },
     "execution_count": 14,
     "metadata": {},
     "output_type": "execute_result"
    }
   ],
   "source": [
    "#Pengecekan data kosong\n",
    "dt.isna().sum()"
   ]
  },
  {
   "cell_type": "code",
   "execution_count": 15,
   "id": "01c551ba",
   "metadata": {},
   "outputs": [
    {
     "name": "stdout",
     "output_type": "stream",
     "text": [
      "Pengirim      int64\n",
      "Layanan       int64\n",
      "Pembayaran    int64\n",
      "Sumber        int64\n",
      "Biaya         int64\n",
      "Status        int64\n",
      "dtype: object\n"
     ]
    }
   ],
   "source": [
    "#Melihat Tipe Dataset\n",
    "data_types = dt.dtypes\n",
    "\n",
    "# Print data types\n",
    "print(data_types)"
   ]
  },
  {
   "cell_type": "code",
   "execution_count": 25,
   "id": "834ddb77",
   "metadata": {},
   "outputs": [],
   "source": [
    "# Preprocessing data\n",
    "X = dt[['Pengirim', 'Layanan', 'Pembayaran', 'Sumber', 'Biaya']]\n",
    "y = dt['Status']\n",
    "\n",
    "# Bagi data menjadi data latih dan data uji 80 dan 20\n",
    "X_train, X_test, y_train, y_test = train_test_split(X, y, test_size=0.2, random_state=50)"
   ]
  },
  {
   "cell_type": "code",
   "execution_count": 26,
   "id": "a78fa572",
   "metadata": {},
   "outputs": [
    {
     "name": "stdout",
     "output_type": "stream",
     "text": [
      "Nilai R2: 0.7064846416382252 %\n"
     ]
    }
   ],
   "source": [
    "# Inisialisasi model KNN\n",
    "model = KNeighborsClassifier()\n",
    "\n",
    "# Latih model menggunakan data latih\n",
    "model.fit(X_train, y_train)\n",
    "\n",
    "# Lakukan prediksi harga telur menggunakan data uji\n",
    "y_pred = model.predict(X_test)\n",
    "\n",
    "# Evaluasi model menggunakan metode R^2\n",
    "r2_score = model.score(X_test, y_test)\n",
    "print('Nilai R2:', r2_score, '%')\n"
   ]
  },
  {
   "cell_type": "code",
   "execution_count": 35,
   "id": "17e69060",
   "metadata": {},
   "outputs": [
    {
     "name": "stdout",
     "output_type": "stream",
     "text": [
      "Prediksi Status Paket: [0]\n"
     ]
    }
   ],
   "source": [
    "# Contoh prediksi paket dengan data baru\n",
    "#dt[['Pengirim', 'Layanan', 'Pembayaran', 'Sumber', 'Biaya']]\n",
    "data_baru = pd.DataFrame({\n",
    "    'Pengirim': [42],\n",
    "    'Layanan': [2],\n",
    "    'Pembayaran': [1],\n",
    "    'Sumber': [6],\n",
    "    'Biaya': [4365]\n",
    "})\n",
    "\n",
    "status_prediksi = model.predict(data_baru)\n",
    "print('Prediksi Status Paket:', status_prediksi)"
   ]
  },
  {
   "cell_type": "code",
   "execution_count": 32,
   "id": "5e5d8766",
   "metadata": {},
   "outputs": [],
   "source": [
    "#Menyimpan model ML\n",
    "import pickle\n",
    "filename = 'finalized_model.pkl'\n",
    "pickle.dump(model, open(filename, 'wb'))"
   ]
  },
  {
   "cell_type": "code",
   "execution_count": 33,
   "id": "948627d5",
   "metadata": {},
   "outputs": [
    {
     "name": "stdout",
     "output_type": "stream",
     "text": [
      "Prediksi Status Paket: [1]\n"
     ]
    }
   ],
   "source": [
    "# Contoh prediksi paket dengan data baru\n",
    "model1 = pickle.load( open( \"finalized_model.pkl\", \"rb\" ))\n",
    "data_baru = pd.DataFrame({\n",
    "    'Pengirim': [111],\n",
    "    'Layanan': [1],\n",
    "    'Pembayaran': [3],\n",
    "    'Sumber': [7],\n",
    "    'Biaya': [70000]\n",
    "})\n",
    "\n",
    "status_prediksi = model1.predict(data_baru)\n",
    "print('Prediksi Status Paket:', status_prediksi)"
   ]
  },
  {
   "cell_type": "code",
   "execution_count": null,
   "id": "30b21e05",
   "metadata": {},
   "outputs": [
    {
     "name": "stdout",
     "output_type": "stream",
     "text": [
      "Berhasil terhubung ke database\n",
      " * Serving Flask app '__main__'\n",
      " * Debug mode: off\n"
     ]
    },
    {
     "name": "stderr",
     "output_type": "stream",
     "text": [
      "WARNING: This is a development server. Do not use it in a production deployment. Use a production WSGI server instead.\n",
      " * Running on http://127.0.0.1:5000\n",
      "Press CTRL+C to quit\n",
      "127.0.0.1 - - [31/Jul/2023 00:07:09] \"GET / HTTP/1.1\" 200 -\n",
      "127.0.0.1 - - [31/Jul/2023 00:07:09] \"GET /static/style.css HTTP/1.1\" 304 -\n",
      "127.0.0.1 - - [31/Jul/2023 00:07:09] \"GET /static/bri.png HTTP/1.1\" 304 -\n",
      "127.0.0.1 - - [31/Jul/2023 00:07:19] \"POST /login HTTP/1.1\" 200 -\n",
      "127.0.0.1 - - [31/Jul/2023 00:07:20] \"GET /static/style.css HTTP/1.1\" 304 -\n",
      "127.0.0.1 - - [31/Jul/2023 00:07:20] \"GET /static/loan.jpg HTTP/1.1\" 304 -\n",
      "127.0.0.1 - - [31/Jul/2023 00:07:35] \"GET /predict HTTP/1.1\" 200 -\n",
      "127.0.0.1 - - [31/Jul/2023 00:07:35] \"GET /static/style.css HTTP/1.1\" 304 -\n",
      "127.0.0.1 - - [31/Jul/2023 00:07:35] \"GET /js/login.js HTTP/1.1\" 404 -\n",
      "127.0.0.1 - - [31/Jul/2023 00:07:56] \"POST /get_prediction HTTP/1.1\" 200 -\n",
      "127.0.0.1 - - [31/Jul/2023 00:07:56] \"GET /static/style.css HTTP/1.1\" 304 -\n",
      "127.0.0.1 - - [31/Jul/2023 00:07:56] \"GET /js/login.js HTTP/1.1\" 404 -\n",
      "127.0.0.1 - - [31/Jul/2023 00:08:22] \"POST /get_prediction HTTP/1.1\" 200 -\n",
      "127.0.0.1 - - [31/Jul/2023 00:08:22] \"GET /js/login.js HTTP/1.1\" 404 -\n",
      "127.0.0.1 - - [31/Jul/2023 00:08:22] \"GET /static/style.css HTTP/1.1\" 304 -\n",
      "127.0.0.1 - - [31/Jul/2023 00:08:31] \"GET /logout HTTP/1.1\" 200 -\n",
      "127.0.0.1 - - [31/Jul/2023 00:08:31] \"GET /static/style.css HTTP/1.1\" 304 -\n",
      "127.0.0.1 - - [31/Jul/2023 00:08:31] \"GET /static/bri.png HTTP/1.1\" 304 -\n"
     ]
    }
   ],
   "source": [
    "from flask import Flask, jsonify, make_response, request, render_template, abort, redirect, url_for, session\n",
    "import pandas as pd\n",
    "import numpy as np\n",
    "import pickle\n",
    "import mysql.connector\n",
    "import re\n",
    "\n",
    "from flask_cors import CORS,cross_origin\n",
    "model = pickle.load( open( \"finalized_model.pkl\", \"rb\" ) )\n",
    "app = Flask(__name__)\n",
    "app.config['CORS_HEADERS'] = 'Content-Type'\n",
    "app.secret_key = 'MIFTAHCCIT1234'\n",
    "\n",
    "#Koneksi Database\n",
    "conn = mysql.connector.connect(\n",
    "  host=\"localhost\",\n",
    "  user=\"root\",\n",
    "  passwd=\"\",\n",
    "  database=\"package_prediction\"\n",
    "    \n",
    ")\n",
    "#Buat Kursor (Penunjuk)\n",
    "cursor = conn.cursor()\n",
    "\n",
    "#Cek Koneksi Berhasil ?\n",
    "if conn.is_connected():\n",
    "  print(\"Berhasil terhubung ke database\")\n",
    "\n",
    "#Error Page\n",
    "cors = CORS(app)\n",
    "@app.errorhandler(404)\n",
    "def not_found(error):\n",
    "    return make_response(jsonify({'error': 'Not found'}), 404)\n",
    "\n",
    "#Halaman Pertama Kali\n",
    "@app.route(\"/\")\n",
    "def index():\n",
    "   return render_template('login.html')\n",
    "\n",
    "#Halaman Utama / Home\n",
    "@app.route(\"/home\")\n",
    "def home():\n",
    "    # Check if user is loggedin\n",
    "    if 'loggedin' in session:\n",
    "        # User is loggedin show them the home page\n",
    "        return render_template('home.html', username=session['username'])\n",
    "    # User is not loggedin redirect to login page\n",
    "    return redirect(url_for('login'))\n",
    "\n",
    "#Menu Profile\n",
    "@app.route('/predict')\n",
    "def predict():\n",
    "    if 'loggedin' in session:\n",
    "        return render_template('index.html')\n",
    "    else :\n",
    "        return render_template('login.html')\n",
    "\n",
    "#Fungsi Cek Login\n",
    "@app.route(\"/login\", methods=['GET', 'POST', 'OPTIONS'])\n",
    "def login():\n",
    "    # Output message if something goes wrong...\n",
    "    msg = ''\n",
    "    # Check if \"username\" and \"password\" POST requests exist (user submitted form)\n",
    "    if request.method == 'POST' and 'username' in request.form and 'password' in request.form:\n",
    "        # Create variables for easy access\n",
    "        username = request.form['username']\n",
    "        password = request.form['password']\n",
    "        # Check if account exists using MySQL\n",
    "        cursor.execute('SELECT * FROM accounts WHERE username = %s AND password = %s', (username, password,))\n",
    "        # Fetch one record and return result\n",
    "        account = cursor.fetchone()\n",
    "        # If account exists in accounts table in out database\n",
    "        if account:\n",
    "            # Create session data, we can access this data in other routes\n",
    "            session['loggedin'] = True\n",
    "            session['username'] = username\n",
    "            # Redirect to home page\n",
    "            return render_template('home.html', msg=session['username'])\n",
    "        else:\n",
    "            # Account doesnt exist or username/password incorrect\n",
    "            msg = 'Incorrect username/password!'\n",
    "    # Show the login form with message (if any)\n",
    "    return render_template('login.html', msg=msg)\n",
    "\n",
    "#Fungsi Logout\n",
    "@app.route(\"/logout\")\n",
    "def logout():\n",
    "    # Remove session data, this will log the user out\n",
    "   session.pop('loggedin', None)\n",
    "   session.pop('id', None)\n",
    "   session.pop('username', None)\n",
    "   # Redirect to login page\n",
    "   return render_template('login.html')\n",
    "\n",
    "@app.route(\"/register\", methods=['GET', 'POST'])\n",
    "def register():\n",
    "    # Output message if something goes wrong...\n",
    "    msg = ''\n",
    "    # Check if \"username\", \"password\" and \"email\" POST requests exist (user submitted form)\n",
    "    if request.method == 'POST' and 'loggedin' not in session and 'username' in request.form and 'password' in request.form and 'email' in request.form:\n",
    "        # Create variables for easy access\n",
    "        username = request.form['username']\n",
    "        password = request.form['password']\n",
    "        email = request.form['email']\n",
    "        cursor.execute('SELECT * FROM accounts WHERE username = %s', (username,))\n",
    "        account = cursor.fetchone()\n",
    "        # If account exists show error and validation checks\n",
    "        if account:\n",
    "            msg = 'Account already exists!'\n",
    "        elif not re.match(r'[^@]+@[^@]+\\.[^@]+', email):\n",
    "            msg = 'Invalid email address!'\n",
    "        elif not re.match(r'[A-Za-z0-9]+', username):\n",
    "            msg = 'Username must contain only characters and numbers!'\n",
    "        elif not username or not password or not email:\n",
    "            msg = 'Please fill out the form!'\n",
    "        else:\n",
    "            # Account doesnt exists and the form data is valid, now insert new account into accounts table\n",
    "            cursor.execute('INSERT INTO accounts VALUES (NULL, %s, %s, %s)', (username, password, email,))\n",
    "            conn.commit()\n",
    "            msg = 'You have successfully registered!'\n",
    "            # Redirect to home page\n",
    "            return render_template('login.html', msg=msg)\n",
    "    elif request.method == 'POST':\n",
    "        # Form is empty... (no POST data)\n",
    "        msg = 'Please fill out the form!'\n",
    "    # Show registration form with message (if any)\n",
    "    return render_template('register.html', msg=msg)\n",
    "\n",
    "#Konversi ke Rupiah\n",
    "def transform_to_rupiah_format(value):\n",
    "    str_value = str(value)\n",
    "    separate_decimal = str_value.split(\".\")\n",
    "    after_decimal = separate_decimal[0]\n",
    "    before_decimal = separate_decimal[1]\n",
    "\n",
    "    reverse = after_decimal[::-1]\n",
    "    temp_reverse_value = \"\"\n",
    "\n",
    "    for index, val in enumerate(reverse):\n",
    "        if (index + 1) % 3 == 0 and index + 1 != len(reverse):\n",
    "            temp_reverse_value = temp_reverse_value + val + \".\"\n",
    "        else:\n",
    "            temp_reverse_value = temp_reverse_value + val\n",
    "\n",
    "    temp_result = temp_reverse_value[::-1]\n",
    "\n",
    "    return \"Rp \" + temp_result\n",
    "\n",
    "#Prediksi Data\n",
    "@app.route(\"/get_prediction\", methods=['POST','OPTIONS'])\n",
    "@cross_origin()\n",
    "def get_prediction():\n",
    "    if request.method == 'POST' and 'loggedin' in session and 'pengirim' in request.form  and 'layanan' in request.form and 'pembayaran' in request.form and 'sumber' in request.form and 'biaya' in request.form :\n",
    "        #Mengambil 3 Karakter Angka\n",
    "        string = request.form['pengirim']\n",
    "        \n",
    "        pengirim = int(string[0: 3])\n",
    "        layanan = request.form['layanan']\n",
    "        pembayaran = request.form['pembayaran']\n",
    "        sumber = request.form['sumber']\n",
    "        biaya = request.form['biaya']\n",
    "        x = biaya.replace(\"Rp. \", \"\")\n",
    "        biaya = x.replace(\".\", \"\")\n",
    "        \n",
    "        #Prediksi Data\n",
    "        data_prediksi = pd.DataFrame({\n",
    "            'Pengirim': [pengirim],\n",
    "            'Layanan': [layanan],\n",
    "            'Pembayaran': [pembayaran],\n",
    "            'Sumber': [sumber],\n",
    "            'Biaya': [biaya]\n",
    "        })\n",
    "\n",
    "        hasil_prediksi = model.predict(data_prediksi)\n",
    "        if hasil_prediksi == 1 :\n",
    "            hasil = \"SUCCESS\"\n",
    "            return render_template('index.html',prediction_text=\"Package Prediction : {} \".format(hasil))\n",
    "        else:\n",
    "            hasil = \"FAILED\"\n",
    "            return render_template('index.html',prediction_text=\"Package Prediction : {} \".format(hasil))          \n",
    "    else:\n",
    "        return render_template('index.html')\n",
    "    \n",
    "if __name__ == \"__main__\":\n",
    "  app.run()"
   ]
  },
  {
   "cell_type": "code",
   "execution_count": 23,
   "id": "58c59353-8c8c-424d-a9b3-614bc7dbce22",
   "metadata": {},
   "outputs": [
    {
     "name": "stdout",
     "output_type": "stream",
     "text": [
      "First 3 characters: 1\n"
     ]
    }
   ],
   "source": [
    "string = \"001-Shabani Official\"\n",
    "first_characters = int(string[0: 3])\n",
    "print(\"First 3 characters:\", first_characters)"
   ]
  },
  {
   "cell_type": "code",
   "execution_count": null,
   "id": "1492d136-c22c-4dc1-9601-b702f1a1c0ff",
   "metadata": {},
   "outputs": [],
   "source": []
  }
 ],
 "metadata": {
  "kernelspec": {
   "display_name": "Python 3 (ipykernel)",
   "language": "python",
   "name": "python3"
  },
  "language_info": {
   "codemirror_mode": {
    "name": "ipython",
    "version": 3
   },
   "file_extension": ".py",
   "mimetype": "text/x-python",
   "name": "python",
   "nbconvert_exporter": "python",
   "pygments_lexer": "ipython3",
   "version": "3.11.4"
  }
 },
 "nbformat": 4,
 "nbformat_minor": 5
}
